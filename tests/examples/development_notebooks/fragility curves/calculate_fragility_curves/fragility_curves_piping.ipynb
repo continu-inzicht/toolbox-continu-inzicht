{
 "cells": [
  {
   "cell_type": "code",
   "execution_count": null,
   "metadata": {},
   "outputs": [],
   "source": [
    "from pathlib import Path\n",
    "\n",
    "from toolbox_continu_inzicht.base.data_adapter import Config, DataAdapter"
   ]
  },
  {
   "cell_type": "code",
   "execution_count": null,
   "metadata": {},
   "outputs": [],
   "source": [
    "path = Path.cwd() / \"data_sets\"\n",
    "config = Config(config_path=path / \"test_fragility_multiple_curves_piping.yaml\")\n",
    "config.lees_config()\n",
    "data_adapter = DataAdapter(config=config)"
   ]
  },
  {
   "cell_type": "markdown",
   "metadata": {},
   "source": [
    "```yaml\n",
    "GlobalVariables:\n",
    "    rootdir: \"data_sets\"\n",
    "    moments: [-24,0,24,48]\n",
    "\n",
    "    FragilityCurvePipingMultiple:\n",
    "        \n",
    "\n",
    "\n",
    "DataAdapter:\n",
    "    default_options:\n",
    "        csv:\n",
    "            sep: \",\"\n",
    "        \n",
    "    probabilistic_input:\n",
    "        type: csv\n",
    "        file: \"invoer_multiple_piping_sections.csv\"\n",
    "    waterlevels:\n",
    "        type: csv\n",
    "        file: \"waterlevels.csv\"\n",
    "    fragility_curves:\n",
    "        type: csv\n",
    "        file: \"fragility_multiple_curves_piping.csv\"\n",
    "\n",
    "```"
   ]
  },
  {
   "cell_type": "code",
   "execution_count": null,
   "metadata": {},
   "outputs": [],
   "source": [
    "from toolbox_continu_inzicht.fragility_curves import FragilityCurvePipingMultiple"
   ]
  },
  {
   "cell_type": "code",
   "execution_count": null,
   "metadata": {},
   "outputs": [],
   "source": [
    "fragility_curve_piping = FragilityCurvePipingMultiple(data_adapter=data_adapter)\n",
    "fragility_curve_piping.run(\n",
    "    input=[\"probabilistic_input\", \"waterlevels\"], output=\"fragility_curves\"\n",
    ")"
   ]
  },
  {
   "cell_type": "code",
   "execution_count": null,
   "metadata": {},
   "outputs": [],
   "source": [
    "fragility_curve_piping.df_out"
   ]
  },
  {
   "cell_type": "code",
   "execution_count": null,
   "metadata": {},
   "outputs": [],
   "source": [
    "import matplotlib.pyplot as plt\n",
    "\n",
    "section_ids = fragility_curve_piping.df_out[\"section_id\"].unique()\n",
    "df = fragility_curve_piping.df_out.set_index(\"waterlevel\")\n",
    "fig, ax = plt.subplots(len(section_ids), 1, figsize=(10, 10))\n",
    "for i, section_id in enumerate(section_ids):\n",
    "    df_id = df[df[\"section_id\"] == section_id]\n",
    "    for j, secenario_id in enumerate(df_id[\"scenario_id\"].unique()):\n",
    "        df_scen = df_id[df_id[\"scenario_id\"] == secenario_id]\n",
    "        ls = \"-\"\n",
    "        if j % 2 == 0:\n",
    "            ls = \"--\"\n",
    "        df_scen[\"failure_probability\"].plot(ax=ax[i], color=f\"C{j}\", ls=ls)"
   ]
  },
  {
   "cell_type": "code",
   "execution_count": null,
   "metadata": {},
   "outputs": [],
   "source": []
  }
 ],
 "metadata": {
  "kernelspec": {
   "display_name": "Python 3 (ipykernel)",
   "language": "python",
   "name": "python3"
  },
  "language_info": {
   "codemirror_mode": {
    "name": "ipython",
    "version": 3
   },
   "file_extension": ".py",
   "mimetype": "text/x-python",
   "name": "python",
   "nbconvert_exporter": "python",
   "pygments_lexer": "ipython3",
   "version": "3.13.2"
  }
 },
 "nbformat": 4,
 "nbformat_minor": 4
}
