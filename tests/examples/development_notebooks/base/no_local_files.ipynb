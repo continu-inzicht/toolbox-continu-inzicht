{
 "cells": [
  {
   "cell_type": "markdown",
   "metadata": {},
   "source": [
    "# Geen lokale bestanden\n",
    "\n",
    "In sommige implementaties is het gebruik van een locale `.yaml` bestand niet wenselijk. De configuratie kan ook geheel in de code worden gezet. Dit kan handig zijn voor kleinere projecten of wanneer je geen aparte configuratiebestanden wilt beheren."
   ]
  },
  {
   "cell_type": "code",
   "execution_count": null,
   "metadata": {},
   "outputs": [],
   "source": [
    "from pathlib import Path\n",
    "\n",
    "from toolbox_continu_inzicht import Config"
   ]
  },
  {
   "cell_type": "markdown",
   "metadata": {},
   "source": [
    "## 1. Voorbeeld met CSV - data adapter (classiek)\n",
    "Lees de configuratie in:\n",
    "\n",
    "Dit leest een configuratie bestand `test_config.yaml` in. \n",
    "Hier definieren we een aantal data adapaters die lezen/schrijven mogelijk maken:\n",
    "\n",
    "```yaml\n",
    "GlobalVariables:\n",
    "    rootdir: 'tests/src/base/data_sets'\n",
    "\n",
    "DataAdapter:\n",
    "    postgresql_database:\n",
    "        database: 'citoolbox'\n",
    "        schema: 'citoolbox_schema'\n",
    "        \n",
    "    my_csv_in: \n",
    "        type: csv\n",
    "        file: 'test_csv_in.csv'\n",
    "    my_csv_in_delim: \n",
    "        type: csv\n",
    "        file: 'test_csv_in_delim.csv'\n",
    "        sep: ';'\n",
    "    MyCSV_out: \n",
    "        type: csv\n",
    "        file: 'test_csv_out.csv'\n",
    "    MyPostgresql: \n",
    "        type: postgresql_database\n",
    "        table: data_test\n",
    "    MyNetCDF_in:\n",
    "        type: netcdf\n",
    "        file: 'test_netcdf_in.nc'\n",
    "    MyNetCDF_out:\n",
    "        type: netcdf\n",
    "        file: 'test_netcdf_out.nc'\n",
    "\n",
    "...\n",
    "\n",
    "```"
   ]
  },
  {
   "cell_type": "code",
   "execution_count": null,
   "metadata": {},
   "outputs": [],
   "source": [
    "test_data_sets_path = Path.cwd() / \"data_sets\"\n",
    "config_via_yaml = Config(config_path=test_data_sets_path / \"test_config.yaml\")\n",
    "config_via_yaml.lees_config()"
   ]
  },
  {
   "cell_type": "markdown",
   "metadata": {},
   "source": [
    "vervolgens geven we de configuratie mee aan de data adapter"
   ]
  },
  {
   "cell_type": "code",
   "execution_count": null,
   "metadata": {},
   "outputs": [],
   "source": [
    "from toolbox_continu_inzicht import DataAdapter\n",
    "from toolbox_continu_inzicht.proof_of_concept import example_module\n",
    "\n",
    "data_adapter_via_yaml = DataAdapter(config=config_via_yaml)\n",
    "\n",
    "\n",
    "keer_twee_yaml = example_module.ValuesTimesTwo(data_adapter=data_adapter_via_yaml)\n",
    "keer_twee_yaml.run(input=\"mycsv_in\", output=\"mycsv_out\")\n",
    "\n",
    "input_df = keer_twee_yaml.df_in  # Bewaren we voor straks"
   ]
  },
  {
   "cell_type": "markdown",
   "metadata": {},
   "source": [
    "De configuratie die we hadden ingelezen kunnen we ook bekijken en vervolgens gebruiken om de data adapter te initialiseren vanuit python."
   ]
  },
  {
   "cell_type": "code",
   "execution_count": null,
   "metadata": {},
   "outputs": [],
   "source": [
    "config_via_yaml.global_variables"
   ]
  },
  {
   "cell_type": "code",
   "execution_count": null,
   "metadata": {},
   "outputs": [],
   "source": [
    "config_via_yaml.data_adapters"
   ]
  },
  {
   "cell_type": "markdown",
   "metadata": {},
   "source": [
    "## 2. Voorbeeld geheel in python - wel data adapters\n",
    "Maak de configuratie geheel in python als dictionary, maar wel nog veel structuur"
   ]
  },
  {
   "cell_type": "code",
   "execution_count": null,
   "metadata": {},
   "outputs": [],
   "source": [
    "import datetime\n",
    "\n",
    "\n",
    "python_global_variables = {\n",
    "    \"rootdir\": \"data_sets\",\n",
    "    \"calc_time\": datetime.datetime(2025, 8, 12, 11, 0, tzinfo=datetime.timezone.utc),\n",
    "}"
   ]
  },
  {
   "cell_type": "code",
   "execution_count": null,
   "metadata": {},
   "outputs": [],
   "source": [
    "python_data_adapters = {\n",
    "    \"default_options\": {\n",
    "        \"postgresql_database\": {\"database\": \"citoolbox\", \"schema\": \"citoolbox_schema\"},\n",
    "        \"csv\": {\"sep\": \",\"},\n",
    "    },\n",
    "    \"mycsv_in\": {\"type\": \"csv\", \"file\": \"test_csv_in.csv\", \"sep\": \",\"},\n",
    "    \"mycsv_in_delim\": {\"type\": \"csv\", \"file\": \"test_csv_in_delim.csv\", \"sep\": \";\"},\n",
    "    \"mycsv_out\": {\"type\": \"csv\", \"file\": \"test_csv_out.csv\", \"sep\": \",\"},\n",
    "    \"mypostgresql\": {\n",
    "        \"type\": \"postgresql_database\",\n",
    "        \"table\": \"data\",\n",
    "        \"database\": \"citoolbox\",\n",
    "        \"schema\": \"citoolbox_schema\",\n",
    "    },\n",
    "    \"mynetcdf_in\": {\"type\": \"netcdf\", \"file\": \"test_netcdf_in.nc\"},\n",
    "    \"mynetcdf_out\": {\"type\": \"netcdf\", \"file\": \"test_netcdf_out.nc\"},\n",
    "    \"my_df_python\": {\"type\": \"python\"},\n",
    "}"
   ]
  },
  {
   "cell_type": "code",
   "execution_count": null,
   "metadata": {},
   "outputs": [],
   "source": [
    "current_path = Path.cwd()\n",
    "config_via_dict = Config(config_path=current_path)\n",
    "config_via_dict.global_variables = python_global_variables\n",
    "config_via_dict.data_adapters = python_data_adapters"
   ]
  },
  {
   "cell_type": "code",
   "execution_count": null,
   "metadata": {},
   "outputs": [],
   "source": [
    "data_adapter_via_python = DataAdapter(config=config_via_dict)"
   ]
  },
  {
   "cell_type": "code",
   "execution_count": null,
   "metadata": {},
   "outputs": [],
   "source": [
    "data_adapter_via_python.set_dataframe_adapter(\"my_df_python\", input_df)"
   ]
  },
  {
   "cell_type": "code",
   "execution_count": null,
   "metadata": {},
   "outputs": [],
   "source": [
    "keer_twee_python = example_module.ValuesTimesTwo(data_adapter=data_adapter_via_python)\n",
    "keer_twee_python.run(input=\"my_df_python\", output=\"my_df_python\")"
   ]
  },
  {
   "cell_type": "code",
   "execution_count": null,
   "metadata": {},
   "outputs": [],
   "source": [
    "df_in_functie2 = keer_twee_python.df_out\n",
    "df_in_functie2"
   ]
  },
  {
   "cell_type": "markdown",
   "metadata": {},
   "source": [
    "## 3. Voorbeeld geheel in python  - zonder data adapters\n",
    "Maak de configuratie geheel in python als dictionary, maar weinig structuur."
   ]
  },
  {
   "cell_type": "code",
   "execution_count": null,
   "metadata": {},
   "outputs": [],
   "source": [
    "python_global_variables2 = {}\n",
    "python_data_adapters2 = {}\n",
    "current_path = Path.cwd()\n",
    "config_via_dict2 = Config(config_path=current_path)\n",
    "config_via_dict2.global_variables = python_global_variables2\n",
    "config_via_dict2.data_adapters = python_data_adapters2\n",
    "data_adapter_via_python2 = DataAdapter(config=config_via_dict2)"
   ]
  },
  {
   "cell_type": "code",
   "execution_count": null,
   "metadata": {},
   "outputs": [],
   "source": [
    "data_adapter_via_python2.set_dataframe_adapter(\n",
    "    \"my_df_python_2\", df_in_functie2, if_not_exist=\"create\"\n",
    ")\n",
    "data_adapter_via_python2.set_dataframe_adapter(\n",
    "    \"my_df_python_out\", df_in_functie2, if_not_exist=\"create\"\n",
    ")"
   ]
  },
  {
   "cell_type": "code",
   "execution_count": null,
   "metadata": {},
   "outputs": [],
   "source": [
    "keer_twee_python2 = example_module.ValuesTimesTwo(data_adapter=data_adapter_via_python2)"
   ]
  },
  {
   "cell_type": "code",
   "execution_count": null,
   "metadata": {},
   "outputs": [],
   "source": [
    "keer_twee_python2.run(input=\"my_df_python_2\", output=\"my_df_python_out\")\n",
    "keer_twee_python2.df_out"
   ]
  }
 ],
 "metadata": {
  "kernelspec": {
   "display_name": "default",
   "language": "python",
   "name": "python3"
  },
  "language_info": {
   "codemirror_mode": {
    "name": "ipython",
    "version": 3
   },
   "file_extension": ".py",
   "mimetype": "text/x-python",
   "name": "python",
   "nbconvert_exporter": "python",
   "pygments_lexer": "ipython3",
   "version": "3.13.2"
  }
 },
 "nbformat": 4,
 "nbformat_minor": 2
}
