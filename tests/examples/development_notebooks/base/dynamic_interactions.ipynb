{
 "cells": [
  {
   "cell_type": "markdown",
   "metadata": {},
   "source": [
    "# dynamische interactie\n",
    "\n",
    "Na sprint 2 van het ontwikkelen van de TBCI kwam de vraag of ook de code dynamischer gebruikt kan woorden:"
   ]
  },
  {
   "cell_type": "code",
   "execution_count": null,
   "metadata": {},
   "outputs": [],
   "source": [
    "from pathlib import Path\n",
    "\n",
    "from toolbox_continu_inzicht import Config"
   ]
  },
  {
   "cell_type": "markdown",
   "metadata": {},
   "source": [
    "## 1. Voorbeeld met CSV - data adapter\n",
    "Lees de configuratie in:\n",
    "\n",
    "Dit leest een configuratie bestand `test_config.yaml` in. \n",
    "Hier definieren we een aantal data adapaters die lezen/schrijven mogelijk maken:\n",
    "\n",
    "```yaml\n",
    "GlobalVariables:\n",
    "    rootdir: 'tests/src/base/data_sets'\n",
    "\n",
    "DataAdapter:\n",
    "    postgresql_database:\n",
    "        database: 'citoolbox'\n",
    "        schema: 'citoolbox_schema'\n",
    "        \n",
    "    my_csv_in: \n",
    "        type: csv\n",
    "        file: 'test_csv_in.csv'\n",
    "    my_csv_in_delim: \n",
    "        type: csv\n",
    "        file: 'test_csv_in_delim.csv'\n",
    "        sep: ';'\n",
    "    MyCSV_out: \n",
    "        type: csv\n",
    "        file: 'test_csv_out.csv'\n",
    "    MyPostgresql: \n",
    "        type: postgresql_database\n",
    "        table: data_test\n",
    "    MyNetCDF_in:\n",
    "        type: netcdf\n",
    "        file: 'test_netcdf_in.nc'\n",
    "    MyNetCDF_out:\n",
    "        type: netcdf\n",
    "        file: 'test_netcdf_out.nc'\n",
    "\n",
    "...\n",
    "\n",
    "```"
   ]
  },
  {
   "cell_type": "code",
   "execution_count": null,
   "metadata": {},
   "outputs": [],
   "source": [
    "test_data_sets_path = Path.cwd() / \"data_sets\"\n",
    "config = Config(config_path=test_data_sets_path / \"test_config.yaml\")\n",
    "config.lees_config()"
   ]
  },
  {
   "cell_type": "markdown",
   "metadata": {},
   "source": [
    "Zet de data adapter klaar en geef deze de configuratie mee "
   ]
  },
  {
   "cell_type": "code",
   "execution_count": null,
   "metadata": {},
   "outputs": [],
   "source": [
    "from toolbox_continu_inzicht import DataAdapter\n",
    "\n",
    "data_adapter = DataAdapter(config=config)"
   ]
  },
  {
   "cell_type": "markdown",
   "metadata": {},
   "source": [
    "Met de functie `set_global_variable` kan dit nu"
   ]
  },
  {
   "cell_type": "code",
   "execution_count": null,
   "metadata": {},
   "outputs": [],
   "source": [
    "data_adapter.config.global_variables[\"calc_time\"]"
   ]
  },
  {
   "cell_type": "code",
   "execution_count": null,
   "metadata": {},
   "outputs": [],
   "source": [
    "from datetime import datetime, timedelta, timezone\n",
    "\n",
    "dt_new_time = datetime.now() + timedelta(days=1)\n",
    "new_time = datetime(\n",
    "    dt_new_time.year,\n",
    "    dt_new_time.month,\n",
    "    dt_new_time.day,\n",
    "    dt_new_time.hour,\n",
    "    0,\n",
    "    0,\n",
    ").replace(tzinfo=timezone.utc)\n",
    "\n",
    "data_adapter.set_global_variable(\"calc_time\", new_time)"
   ]
  },
  {
   "cell_type": "code",
   "execution_count": null,
   "metadata": {},
   "outputs": [],
   "source": [
    "data_adapter.config.global_variables[\"calc_time\"]"
   ]
  },
  {
   "cell_type": "code",
   "execution_count": null,
   "metadata": {},
   "outputs": [],
   "source": [
    "from toolbox_continu_inzicht.proof_of_concept import example_module\n",
    "\n",
    "keer_twee = example_module.ValuesTimesTwo(data_adapter=data_adapter)"
   ]
  },
  {
   "cell_type": "code",
   "execution_count": null,
   "metadata": {},
   "outputs": [],
   "source": [
    "keer_twee.run(input=\"mycsv_in\", output=\"mycsv_out\")"
   ]
  },
  {
   "cell_type": "code",
   "execution_count": null,
   "metadata": {},
   "outputs": [],
   "source": [
    "input_df = keer_twee.df_in"
   ]
  },
  {
   "cell_type": "code",
   "execution_count": null,
   "metadata": {},
   "outputs": [],
   "source": [
    "input_df"
   ]
  },
  {
   "cell_type": "markdown",
   "metadata": {},
   "source": [
    "```yaml\n",
    "GlobalVariables:\n",
    "    rootdir: 'data_sets'\n",
    "    moments: [-24,0,24,48] \n",
    "\n",
    "DataAdapter:\n",
    "    default_options:        \n",
    "        csv:\n",
    "            sep: \",\"\n",
    "\n",
    "    my_csv: \n",
    "        type: csv\n",
    "        file: \"test_csv_in.csv\"\n",
    "        sep: \";\"\n",
    "    my_df_python:\n",
    "        type: python\n",
    "    my_csv_out:   \n",
    "        type: csv\n",
    "        file: \"test_csv_in.csv\"\n",
    "\n",
    "```"
   ]
  },
  {
   "cell_type": "code",
   "execution_count": null,
   "metadata": {},
   "outputs": [],
   "source": [
    "config = Config(config_path=test_data_sets_path / \"test_config_dynamic.yaml\")\n",
    "config.lees_config()"
   ]
  },
  {
   "cell_type": "code",
   "execution_count": null,
   "metadata": {},
   "outputs": [],
   "source": [
    "data_adapter = DataAdapter(config=config)\n",
    "data_adapter.set_dataframe_adapter(\"my_df_python\", input_df)"
   ]
  },
  {
   "cell_type": "code",
   "execution_count": null,
   "metadata": {},
   "outputs": [],
   "source": [
    "keer_twee = example_module.ValuesTimesTwo(data_adapter=data_adapter)\n",
    "keer_twee.run(input=\"my_df_python\", output=\"my_df_python\")"
   ]
  },
  {
   "cell_type": "code",
   "execution_count": null,
   "metadata": {},
   "outputs": [],
   "source": [
    "df_in_functie2 = keer_twee.df_out\n",
    "df_in_functie2"
   ]
  },
  {
   "cell_type": "code",
   "execution_count": null,
   "metadata": {},
   "outputs": [],
   "source": [
    "data_adapter.set_dataframe_adapter(\n",
    "    \"my_df_python_2\", df_in_functie2, if_not_exist=\"create\"\n",
    ")"
   ]
  },
  {
   "cell_type": "code",
   "execution_count": null,
   "metadata": {},
   "outputs": [],
   "source": [
    "data_adapter.config.data_adapters.keys()"
   ]
  },
  {
   "cell_type": "markdown",
   "metadata": {},
   "source": [
    "### show how a custom data adapter works"
   ]
  },
  {
   "cell_type": "markdown",
   "metadata": {},
   "source": [
    "```python\n",
    "def input_test_text(input_config: dict):\n",
    "    \"\"\"Function to read a text file given a path\"\"\"\n",
    "    # input_config contains all the information from reading the config file\n",
    "    path = input_config[\"abs_path\"]\n",
    "    # we check with `get_kwargs` which options are compatible\n",
    "    kwargs = get_kwargs(open, input_config)\n",
    "    kwargs.pop(\"file\")  # use the abs path instead of file\n",
    "    with open(path, **kwargs) as f:\n",
    "        data = f.read()\n",
    "    # return the data in a dataframe, this is just an example\n",
    "    return pd.DataFrame([data], columns=[\"text\"])\n",
    "```"
   ]
  },
  {
   "cell_type": "markdown",
   "metadata": {},
   "source": [
    "```yaml\n",
    "GlobalVariables:\n",
    "    rootdir: 'data_sets'\n",
    "    input_plugin_path: 'data_sets'\n",
    "\n",
    "DataAdapter:\n",
    "    example_test:\n",
    "        type: test_text\n",
    "        file: 'test.txt'\n",
    "\n",
    "```"
   ]
  },
  {
   "cell_type": "code",
   "execution_count": null,
   "metadata": {},
   "outputs": [],
   "source": [
    "config = Config(config_path=test_data_sets_path / \"test_extra_da.yaml\")\n",
    "config.lees_config()"
   ]
  },
  {
   "cell_type": "code",
   "execution_count": null,
   "metadata": {},
   "outputs": [],
   "source": [
    "data_adapter = DataAdapter(config=config)"
   ]
  },
  {
   "cell_type": "code",
   "execution_count": null,
   "metadata": {},
   "outputs": [],
   "source": [
    "df_in = data_adapter.input(\"example_test\")\n",
    "df_in"
   ]
  },
  {
   "cell_type": "markdown",
   "metadata": {},
   "source": []
  }
 ],
 "metadata": {
  "kernelspec": {
   "display_name": "default",
   "language": "python",
   "name": "python3"
  },
  "language_info": {
   "codemirror_mode": {
    "name": "ipython",
    "version": 3
   },
   "file_extension": ".py",
   "mimetype": "text/x-python",
   "name": "python",
   "nbconvert_exporter": "python",
   "pygments_lexer": "ipython3",
   "version": "3.13.2"
  }
 },
 "nbformat": 4,
 "nbformat_minor": 2
}
