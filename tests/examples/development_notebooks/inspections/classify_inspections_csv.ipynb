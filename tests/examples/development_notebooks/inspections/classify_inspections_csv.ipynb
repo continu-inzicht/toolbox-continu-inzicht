{
 "cells": [
  {
   "cell_type": "code",
   "execution_count": null,
   "metadata": {},
   "outputs": [],
   "source": [
    "from pathlib import Path\n",
    "\n",
    "from toolbox_continu_inzicht.base.config import Config\n",
    "from toolbox_continu_inzicht.base.data_adapter import DataAdapter"
   ]
  },
  {
   "cell_type": "code",
   "execution_count": null,
   "metadata": {},
   "outputs": [],
   "source": [
    "path = Path.cwd() / \"data_sets\"\n",
    "config = Config(config_path=path / \"example_inspection.yaml\")\n",
    "config.lees_config()\n",
    "data_adapter = DataAdapter(config=config)"
   ]
  },
  {
   "cell_type": "code",
   "execution_count": null,
   "metadata": {},
   "outputs": [],
   "source": [
    "data_adapter.input(\"inspections_results\")"
   ]
  },
  {
   "cell_type": "markdown",
   "metadata": {},
   "source": [
    "Filter resultaten uit de input tabel:\n",
    "```yaml\n",
    "GlobalVariables:\n",
    "    \n",
    "    ...\n",
    "\n",
    "    Filter:\n",
    "        query: \"prioriteit > 0\"\n",
    "        drop_columns:\n",
    "            - \"waterschap\"\n",
    "            - \"location_id\"\n",
    "```"
   ]
  },
  {
   "cell_type": "code",
   "execution_count": null,
   "metadata": {},
   "outputs": [],
   "source": [
    "from toolbox_continu_inzicht.inspections.filter import Filter"
   ]
  },
  {
   "cell_type": "code",
   "execution_count": null,
   "metadata": {},
   "outputs": [],
   "source": [
    "filter = Filter(data_adapter=data_adapter)\n",
    "filter.run(input=\"inspections_results\", output=\"filter_resultaten\")"
   ]
  },
  {
   "cell_type": "code",
   "execution_count": null,
   "metadata": {},
   "outputs": [],
   "source": [
    "filter.df_out"
   ]
  },
  {
   "cell_type": "markdown",
   "metadata": {},
   "source": [
    "De gefilterde tabel kunnen we vervolgens classificeren<br>\n",
    "Als we geen opmaak informatie meegeven in de input wordt de standaard opmaak toegepast"
   ]
  },
  {
   "cell_type": "code",
   "execution_count": null,
   "metadata": {},
   "outputs": [],
   "source": [
    "from toolbox_continu_inzicht.inspections.inspections import ClassifyInspections"
   ]
  },
  {
   "cell_type": "code",
   "execution_count": null,
   "metadata": {},
   "outputs": [],
   "source": [
    "classify_inspections = ClassifyInspections(data_adapter=data_adapter)\n",
    "classify_inspections.run(input=\"filter_resultaten\", output=\"classify_resultaten\")"
   ]
  },
  {
   "cell_type": "code",
   "execution_count": null,
   "metadata": {},
   "outputs": [],
   "source": [
    "classify_inspections.df_out"
   ]
  },
  {
   "cell_type": "markdown",
   "metadata": {},
   "source": [
    "Als we wel styling mee geven wordt dit toegepast"
   ]
  },
  {
   "cell_type": "code",
   "execution_count": null,
   "metadata": {},
   "outputs": [],
   "source": [
    "data_adapter.input(\"styling_example\")"
   ]
  },
  {
   "cell_type": "markdown",
   "metadata": {},
   "source": [
    "In de config moeten we alleen de kolom opgeven waarop geclassificeerd wordt. \n",
    "\n",
    "```yaml\n",
    "GlobalVariables:\n",
    "    \n",
    "    ...\n",
    "\n",
    "    ClassifyInspections:\n",
    "        classify_column: \"prioriteit\"\n",
    "```"
   ]
  },
  {
   "cell_type": "code",
   "execution_count": null,
   "metadata": {},
   "outputs": [],
   "source": [
    "classify_inspections_styling = ClassifyInspections(data_adapter=data_adapter)\n",
    "classify_inspections_styling.run(\n",
    "    input=[\"filter_resultaten\", \"styling_example\"], output=\"classify_resultaten\"\n",
    ")"
   ]
  },
  {
   "cell_type": "code",
   "execution_count": null,
   "metadata": {},
   "outputs": [],
   "source": [
    "classify_inspections_styling.df_out"
   ]
  },
  {
   "cell_type": "markdown",
   "metadata": {},
   "source": [
    "Stel we willen naast `color` ook `fillColor` toevoegen en een Marker met symbool in plaats van rondje, dan zetten we deze kolom ook in de opmaak tabel"
   ]
  },
  {
   "cell_type": "code",
   "execution_count": null,
   "metadata": {},
   "outputs": [],
   "source": [
    "data_adapter.input(\"more_styling_example\")"
   ]
  },
  {
   "cell_type": "code",
   "execution_count": null,
   "metadata": {},
   "outputs": [],
   "source": [
    "classify_inspections_more_styling = ClassifyInspections(data_adapter=data_adapter)\n",
    "classify_inspections_more_styling.run(\n",
    "    input=[\"filter_resultaten\", \"more_styling_example\"], output=\"classify_resultaten\"\n",
    ")"
   ]
  },
  {
   "cell_type": "markdown",
   "metadata": {},
   "source": [
    "En dan zien we dat fillColor nu ook geclassificeerd is:"
   ]
  },
  {
   "cell_type": "code",
   "execution_count": null,
   "metadata": {},
   "outputs": [],
   "source": [
    "data_adapter.input(\"inspections_results\")"
   ]
  },
  {
   "cell_type": "code",
   "execution_count": null,
   "metadata": {},
   "outputs": [],
   "source": [
    "classify_inspections_more_styling.df_out"
   ]
  },
  {
   "cell_type": "markdown",
   "metadata": {},
   "source": [
    "Dit is al een geo object wat we hier kunnen tonen"
   ]
  },
  {
   "cell_type": "code",
   "execution_count": null,
   "metadata": {},
   "outputs": [],
   "source": [
    "import geopandas as gpd"
   ]
  },
  {
   "cell_type": "code",
   "execution_count": null,
   "metadata": {},
   "outputs": [],
   "source": [
    "ax = classify_inspections_more_styling.df_out.plot()\n",
    "gpd.read_file(path / \"provincie_flevoland.geojson\").plot(\n",
    "    ax=ax, color=\"white\", edgecolor=\"black\", zorder=-1\n",
    ")"
   ]
  },
  {
   "cell_type": "markdown",
   "metadata": {},
   "source": [
    "Voor de viewer is een legenda tabel ook nuttig, deze kan als extra output worden opgegeven"
   ]
  },
  {
   "cell_type": "code",
   "execution_count": null,
   "metadata": {},
   "outputs": [],
   "source": [
    "classify_inspections_more_styling = ClassifyInspections(data_adapter=data_adapter)\n",
    "classify_inspections_more_styling.run(\n",
    "    input=[\"filter_resultaten\", \"more_styling_example\"],\n",
    "    output=[\"classify_resultaten\", \"legenda\"],\n",
    ")"
   ]
  },
  {
   "cell_type": "code",
   "execution_count": null,
   "metadata": {},
   "outputs": [],
   "source": [
    "classify_inspections_more_styling.df_legend_out"
   ]
  },
  {
   "cell_type": "markdown",
   "metadata": {},
   "source": [
    "Hier gebruiken we een `lower_boundary` en `upper_boundary`, het werkt ook met alleen een `lower_boundary`"
   ]
  },
  {
   "cell_type": "code",
   "execution_count": null,
   "metadata": {},
   "outputs": [],
   "source": [
    "data_adapter.input(\"styling_lower_bound\")"
   ]
  },
  {
   "cell_type": "code",
   "execution_count": null,
   "metadata": {},
   "outputs": [],
   "source": [
    "classify_inspections_lower_bound = ClassifyInspections(data_adapter=data_adapter)\n",
    "classify_inspections_lower_bound.run(\n",
    "    input=[\"filter_resultaten\", \"styling_lower_bound\"],\n",
    "    output=[\"classify_resultaten\", \"legenda\"],\n",
    ")\n",
    "classify_inspections_lower_bound.df_out"
   ]
  },
  {
   "cell_type": "markdown",
   "metadata": {},
   "source": [
    "Naast classificeren op numerieke waarde (prioriteit) kan het ook op text, in dit geval opmerking"
   ]
  },
  {
   "cell_type": "code",
   "execution_count": null,
   "metadata": {},
   "outputs": [],
   "source": [
    "path = Path.cwd() / \"data_sets\"\n",
    "config = Config(config_path=path / \"example_inspection_text.yaml\")\n",
    "config.lees_config()\n",
    "data_adapter = DataAdapter(config=config)\n",
    "data_adapter.input(\"styling_example_text\")"
   ]
  },
  {
   "cell_type": "code",
   "execution_count": null,
   "metadata": {},
   "outputs": [],
   "source": [
    "classify_inspections_text = ClassifyInspections(data_adapter=data_adapter)\n",
    "classify_inspections_text.run(\n",
    "    input=[\"filter_resultaten\", \"styling_example_text\"],\n",
    "    output=[\"classify_resultaten\", \"legenda\"],\n",
    ")\n",
    "classify_inspections_text.df_out"
   ]
  },
  {
   "cell_type": "markdown",
   "metadata": {},
   "source": [
    "De output van de inspecties kan klaar gezet worden voor de database"
   ]
  },
  {
   "cell_type": "code",
   "execution_count": null,
   "metadata": {},
   "outputs": [],
   "source": [
    "from toolbox_continu_inzicht.inspections.inspections import InspectionsToDatabase"
   ]
  },
  {
   "cell_type": "code",
   "execution_count": null,
   "metadata": {},
   "outputs": [],
   "source": [
    "inspections_to_database = InspectionsToDatabase(data_adapter=data_adapter)\n",
    "inspections_to_database.run(\n",
    "    input=[\"classify_resultaten\", \"legenda\"],\n",
    "    output=\"example_to_database\",\n",
    ")"
   ]
  },
  {
   "cell_type": "code",
   "execution_count": null,
   "metadata": {},
   "outputs": [],
   "source": [
    "inspections_to_database.df_out"
   ]
  },
  {
   "cell_type": "markdown",
   "metadata": {},
   "source": [
    "Als we niks op geven in de als `layers` wordt er automatisch een aantal standaard opties overgenomen  "
   ]
  },
  {
   "cell_type": "code",
   "execution_count": null,
   "metadata": {},
   "outputs": [],
   "source": [
    "inspections_to_database.df_in_layers"
   ]
  },
  {
   "cell_type": "markdown",
   "metadata": {},
   "source": [
    "Deze kan ook uitgebreider"
   ]
  },
  {
   "cell_type": "code",
   "execution_count": null,
   "metadata": {},
   "outputs": [],
   "source": [
    "data_adapter.input(\"layers\")"
   ]
  },
  {
   "cell_type": "markdown",
   "metadata": {},
   "source": [
    "\n",
    "```yaml\n",
    "GlobalVariables:\n",
    "    \n",
    "    ...\n",
    "\n",
    "    InspectionsToDatabase:\n",
    "        index: 2\n",
    "```"
   ]
  },
  {
   "cell_type": "code",
   "execution_count": null,
   "metadata": {},
   "outputs": [],
   "source": [
    "inspections_to_database = InspectionsToDatabase(data_adapter=data_adapter)\n",
    "inspections_to_database.run(\n",
    "    input=[\"classify_resultaten\", \"legenda\", \"layers\"],\n",
    "    output=\"example_to_database\",\n",
    ")"
   ]
  },
  {
   "cell_type": "code",
   "execution_count": null,
   "metadata": {},
   "outputs": [],
   "source": [
    "inspections_to_database.df_out"
   ]
  },
  {
   "cell_type": "markdown",
   "metadata": {},
   "source": [
    "Tot nu toe was alles lokaal naar csv, maar dit kan juist naar de database"
   ]
  },
  {
   "cell_type": "code",
   "execution_count": null,
   "metadata": {},
   "outputs": [],
   "source": [
    "path = Path.cwd() / \"data_sets\"\n",
    "config = Config(config_path=path / \"example_inspection_db.yaml\")\n",
    "config.lees_config()\n",
    "data_adapter = DataAdapter(config=config)"
   ]
  },
  {
   "cell_type": "code",
   "execution_count": null,
   "metadata": {},
   "outputs": [],
   "source": [
    "inspections_to_database.df_in_layers"
   ]
  },
  {
   "cell_type": "code",
   "execution_count": null,
   "metadata": {},
   "outputs": [],
   "source": [
    "inspections_to_database = InspectionsToDatabase(data_adapter=data_adapter)\n",
    "inspections_to_database.run(\n",
    "    input=[\"classify_resultaten\", \"legenda\", \"layers\"],\n",
    "    output=\"to_ci_database\",\n",
    ")"
   ]
  },
  {
   "cell_type": "code",
   "execution_count": null,
   "metadata": {},
   "outputs": [],
   "source": [
    "inspections_to_database.df_out"
   ]
  }
 ],
 "metadata": {
  "kernelspec": {
   "display_name": "default",
   "language": "python",
   "name": "python3"
  },
  "language_info": {
   "codemirror_mode": {
    "name": "ipython",
    "version": 3
   },
   "file_extension": ".py",
   "mimetype": "text/x-python",
   "name": "python",
   "nbconvert_exporter": "python",
   "pygments_lexer": "ipython3",
   "version": "3.13.5"
  }
 },
 "nbformat": 4,
 "nbformat_minor": 2
}
